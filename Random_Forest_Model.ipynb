{
 "cells": [
  {
   "cell_type": "code",
   "execution_count": 1,
   "id": "e7a0b527",
   "metadata": {},
   "outputs": [
    {
     "name": "stdout",
     "output_type": "stream",
     "text": [
      "<class 'pandas.core.frame.DataFrame'>\n",
      "RangeIndex: 8203 entries, 0 to 8202\n",
      "Data columns (total 15 columns):\n",
      " #   Column                 Non-Null Count  Dtype  \n",
      "---  ------                 --------------  -----  \n",
      " 0   Pkey                   8203 non-null   int64  \n",
      " 1   Renewed                8203 non-null   int64  \n",
      " 2   num seats              8203 non-null   int64  \n",
      " 3    total seat price      8152 non-null   object \n",
      " 4   account_type           8203 non-null   object \n",
      " 5   tenure                 8203 non-null   int64  \n",
      " 6   section                8203 non-null   object \n",
      " 7   club_flag              8203 non-null   object \n",
      " 8   Email Open Rate        8203 non-null   float64\n",
      " 9   State                  8200 non-null   object \n",
      " 10  Country                8200 non-null   object \n",
      " 11  Distance From Stadium  5845 non-null   float64\n",
      " 12  Utilization Rate       8203 non-null   object \n",
      " 13  Age                    7157 non-null   float64\n",
      " 14  income_est_hh_cd       7144 non-null   object \n",
      "dtypes: float64(3), int64(4), object(8)\n",
      "memory usage: 961.4+ KB\n"
     ]
    }
   ],
   "source": [
    "#Load Packages\n",
    "\n",
    "from sklearn.tree import DecisionTreeRegressor, plot_tree\n",
    "from sklearn.metrics import mean_squared_error\n",
    "import pandas as pd\n",
    "import numpy as np\n",
    "from sklearn.model_selection import train_test_split\n",
    "from sklearn.preprocessing import MinMaxScaler, StandardScaler, OneHotEncoder\n",
    "from sklearn.decomposition import PCA\n",
    "import matplotlib.pyplot as plt\n",
    "import seaborn as sns\n",
    "from category_encoders import TargetEncoder\n",
    "from sklearn.ensemble import RandomForestClassifier\n",
    "from sklearn.metrics import classification_report, accuracy_score\n",
    "from sklearn.model_selection import train_test_split\n",
    "from xgboost import XGBClassifier\n",
    "\n",
    "\n",
    "#Load Data\n",
    "training = pd.read_csv(\"Training_Data.csv\")\n",
    "testing = pd.read_csv(\"Testing_Data.csv\")\n",
    "\n",
    "training.info()"
   ]
  },
  {
   "cell_type": "code",
   "execution_count": 2,
   "id": "66eb2d5b",
   "metadata": {},
   "outputs": [],
   "source": [
    "#Load training data and change utilization rate to a number\n",
    "training = training[['num seats', 'tenure', 'account_type', 'club_flag', 'Utilization Rate', 'Renewed']]\n",
    "training = training.fillna(training.median(numeric_only=True))\n",
    "\n",
    "training['Utilization Rate'] = training['Utilization Rate'].str.rstrip('%').astype('float') / 100.0\n",
    "\n",
    "\n",
    "#Split up the input and output values\n",
    "X = training[['num seats', 'tenure', 'account_type', 'club_flag', 'Utilization Rate']]\n",
    "y = training['Renewed']\n",
    "\n",
    "\n",
    "#Create dummy variables for categorical variables\n",
    "X = pd.get_dummies(X, drop_first=True)"
   ]
  },
  {
   "cell_type": "code",
   "execution_count": 3,
   "id": "93334750",
   "metadata": {},
   "outputs": [],
   "source": [
    "# Split the data into training and validation sets\n",
    "X_train, X_val, y_train, y_val = train_test_split(X, y, test_size=0.2, random_state = 99528081)"
   ]
  },
  {
   "cell_type": "code",
   "execution_count": 4,
   "id": "f115c15b",
   "metadata": {},
   "outputs": [
    {
     "data": {
      "text/html": [
       "<style>#sk-container-id-1 {color: black;background-color: white;}#sk-container-id-1 pre{padding: 0;}#sk-container-id-1 div.sk-toggleable {background-color: white;}#sk-container-id-1 label.sk-toggleable__label {cursor: pointer;display: block;width: 100%;margin-bottom: 0;padding: 0.3em;box-sizing: border-box;text-align: center;}#sk-container-id-1 label.sk-toggleable__label-arrow:before {content: \"▸\";float: left;margin-right: 0.25em;color: #696969;}#sk-container-id-1 label.sk-toggleable__label-arrow:hover:before {color: black;}#sk-container-id-1 div.sk-estimator:hover label.sk-toggleable__label-arrow:before {color: black;}#sk-container-id-1 div.sk-toggleable__content {max-height: 0;max-width: 0;overflow: hidden;text-align: left;background-color: #f0f8ff;}#sk-container-id-1 div.sk-toggleable__content pre {margin: 0.2em;color: black;border-radius: 0.25em;background-color: #f0f8ff;}#sk-container-id-1 input.sk-toggleable__control:checked~div.sk-toggleable__content {max-height: 200px;max-width: 100%;overflow: auto;}#sk-container-id-1 input.sk-toggleable__control:checked~label.sk-toggleable__label-arrow:before {content: \"▾\";}#sk-container-id-1 div.sk-estimator input.sk-toggleable__control:checked~label.sk-toggleable__label {background-color: #d4ebff;}#sk-container-id-1 div.sk-label input.sk-toggleable__control:checked~label.sk-toggleable__label {background-color: #d4ebff;}#sk-container-id-1 input.sk-hidden--visually {border: 0;clip: rect(1px 1px 1px 1px);clip: rect(1px, 1px, 1px, 1px);height: 1px;margin: -1px;overflow: hidden;padding: 0;position: absolute;width: 1px;}#sk-container-id-1 div.sk-estimator {font-family: monospace;background-color: #f0f8ff;border: 1px dotted black;border-radius: 0.25em;box-sizing: border-box;margin-bottom: 0.5em;}#sk-container-id-1 div.sk-estimator:hover {background-color: #d4ebff;}#sk-container-id-1 div.sk-parallel-item::after {content: \"\";width: 100%;border-bottom: 1px solid gray;flex-grow: 1;}#sk-container-id-1 div.sk-label:hover label.sk-toggleable__label {background-color: #d4ebff;}#sk-container-id-1 div.sk-serial::before {content: \"\";position: absolute;border-left: 1px solid gray;box-sizing: border-box;top: 0;bottom: 0;left: 50%;z-index: 0;}#sk-container-id-1 div.sk-serial {display: flex;flex-direction: column;align-items: center;background-color: white;padding-right: 0.2em;padding-left: 0.2em;position: relative;}#sk-container-id-1 div.sk-item {position: relative;z-index: 1;}#sk-container-id-1 div.sk-parallel {display: flex;align-items: stretch;justify-content: center;background-color: white;position: relative;}#sk-container-id-1 div.sk-item::before, #sk-container-id-1 div.sk-parallel-item::before {content: \"\";position: absolute;border-left: 1px solid gray;box-sizing: border-box;top: 0;bottom: 0;left: 50%;z-index: -1;}#sk-container-id-1 div.sk-parallel-item {display: flex;flex-direction: column;z-index: 1;position: relative;background-color: white;}#sk-container-id-1 div.sk-parallel-item:first-child::after {align-self: flex-end;width: 50%;}#sk-container-id-1 div.sk-parallel-item:last-child::after {align-self: flex-start;width: 50%;}#sk-container-id-1 div.sk-parallel-item:only-child::after {width: 0;}#sk-container-id-1 div.sk-dashed-wrapped {border: 1px dashed gray;margin: 0 0.4em 0.5em 0.4em;box-sizing: border-box;padding-bottom: 0.4em;background-color: white;}#sk-container-id-1 div.sk-label label {font-family: monospace;font-weight: bold;display: inline-block;line-height: 1.2em;}#sk-container-id-1 div.sk-label-container {text-align: center;}#sk-container-id-1 div.sk-container {/* jupyter's `normalize.less` sets `[hidden] { display: none; }` but bootstrap.min.css set `[hidden] { display: none !important; }` so we also need the `!important` here to be able to override the default hidden behavior on the sphinx rendered scikit-learn.org. See: https://github.com/scikit-learn/scikit-learn/issues/21755 */display: inline-block !important;position: relative;}#sk-container-id-1 div.sk-text-repr-fallback {display: none;}</style><div id=\"sk-container-id-1\" class=\"sk-top-container\"><div class=\"sk-text-repr-fallback\"><pre>RandomForestClassifier(n_estimators=1000, random_state=20022121)</pre><b>In a Jupyter environment, please rerun this cell to show the HTML representation or trust the notebook. <br />On GitHub, the HTML representation is unable to render, please try loading this page with nbviewer.org.</b></div><div class=\"sk-container\" hidden><div class=\"sk-item\"><div class=\"sk-estimator sk-toggleable\"><input class=\"sk-toggleable__control sk-hidden--visually\" id=\"sk-estimator-id-1\" type=\"checkbox\" checked><label for=\"sk-estimator-id-1\" class=\"sk-toggleable__label sk-toggleable__label-arrow\">RandomForestClassifier</label><div class=\"sk-toggleable__content\"><pre>RandomForestClassifier(n_estimators=1000, random_state=20022121)</pre></div></div></div></div></div>"
      ],
      "text/plain": [
       "RandomForestClassifier(n_estimators=1000, random_state=20022121)"
      ]
     },
     "execution_count": 4,
     "metadata": {},
     "output_type": "execute_result"
    }
   ],
   "source": [
    "#Train model\n",
    "\n",
    "rf_model = RandomForestClassifier(n_estimators=1000, random_state= 20022121)\n",
    "\n",
    "rf_model.fit(X_train, y_train)"
   ]
  },
  {
   "cell_type": "code",
   "execution_count": 5,
   "id": "f906377e",
   "metadata": {},
   "outputs": [
    {
     "name": "stdout",
     "output_type": "stream",
     "text": [
      "Accuracy on Validation Set: 0.84\n"
     ]
    }
   ],
   "source": [
    "#Predict values\n",
    "y_val_pred = rf_model.predict(X_val)\n",
    "\n",
    "#Evaluation of accuracy\n",
    "accuracy = accuracy_score(y_val, y_val_pred)\n",
    "print(f\"Accuracy on Validation Set: {accuracy:.2f}\")"
   ]
  },
  {
   "cell_type": "code",
   "execution_count": 6,
   "id": "9cb5a0a0",
   "metadata": {},
   "outputs": [
    {
     "name": "stdout",
     "output_type": "stream",
     "text": [
      "              precision    recall  f1-score   support\n",
      "\n",
      "           0       0.48      0.23      0.31       265\n",
      "           1       0.87      0.95      0.91      1376\n",
      "\n",
      "    accuracy                           0.84      1641\n",
      "   macro avg       0.67      0.59      0.61      1641\n",
      "weighted avg       0.80      0.84      0.81      1641\n",
      "\n"
     ]
    }
   ],
   "source": [
    "#Classification Report\n",
    "print(classification_report(y_val, y_val_pred))"
   ]
  },
  {
   "cell_type": "markdown",
   "id": "c8fdcd8f",
   "metadata": {},
   "source": [
    "From our classifcation report, we are very happy with our results. Accuracy of 0.84 is good, but accuracy can be over influenced when classes are imbalanced, and so we look to some of our other statistics. Precision of 0.87 indicates that 87% of the people we say will renew their tickets actually did, 0.95 recall indicates that 0.95% of the people who actually renewed their season tickets were predicted to do so by my model and the 0.91 f1-score averages our precision and recall and indicates that we are doing a good job minimizing both Type I and Type II error, as there are very few false positives or negatives. Now we apply this to our test set"
   ]
  },
  {
   "cell_type": "code",
   "execution_count": 7,
   "id": "cee156e7",
   "metadata": {},
   "outputs": [
    {
     "name": "stderr",
     "output_type": "stream",
     "text": [
      "/var/folders/67/gpz3f5nd55l_q5hmg7yqg9ww0000gn/T/ipykernel_28072/173066489.py:6: SettingWithCopyWarning: \n",
      "A value is trying to be set on a copy of a slice from a DataFrame.\n",
      "Try using .loc[row_indexer,col_indexer] = value instead\n",
      "\n",
      "See the caveats in the documentation: https://pandas.pydata.org/pandas-docs/stable/user_guide/indexing.html#returning-a-view-versus-a-copy\n",
      "  testing_sub['Utilization Rate'] = testing_sub['Utilization Rate'].str.rstrip('%').astype('float') / 100.0\n"
     ]
    }
   ],
   "source": [
    "#Applying to test set\n",
    "\n",
    "testing_sub = testing[['num seats', 'tenure', 'account_type', 'club_flag', 'Utilization Rate']]\n",
    "\n",
    "\n",
    "testing_sub['Utilization Rate'] = testing_sub['Utilization Rate'].str.rstrip('%').astype('float') / 100.0\n",
    "\n",
    "\n",
    "X_test = testing[['num seats', 'tenure', 'account_type', 'club_flag', 'Utilization Rate']]\n",
    "\n",
    "\n",
    "X_test = pd.get_dummies(X_test, drop_first=True)\n",
    "\n",
    "\n",
    "X_test = X_test.reindex(columns=X_train.columns, fill_value=0)"
   ]
  },
  {
   "cell_type": "code",
   "execution_count": 8,
   "id": "024aa105",
   "metadata": {},
   "outputs": [],
   "source": [
    "#Predict probabilities from test set data\n",
    "Renewal_Prob = rf_model.predict_proba(X_test)[:, 1]"
   ]
  },
  {
   "cell_type": "code",
   "execution_count": 9,
   "id": "d0ab7930",
   "metadata": {},
   "outputs": [],
   "source": [
    "#Adding probabilities to the dataset we will export\n",
    "testing['Renewal_Prob'] = np.nan\n",
    "\n",
    "\n",
    "testing.loc[X_test.index, 'Renewal_Prob'] = Renewal_Prob"
   ]
  },
  {
   "cell_type": "code",
   "execution_count": 10,
   "id": "c6cd916b",
   "metadata": {},
   "outputs": [
    {
     "data": {
      "text/html": [
       "<div>\n",
       "<style scoped>\n",
       "    .dataframe tbody tr th:only-of-type {\n",
       "        vertical-align: middle;\n",
       "    }\n",
       "\n",
       "    .dataframe tbody tr th {\n",
       "        vertical-align: top;\n",
       "    }\n",
       "\n",
       "    .dataframe thead th {\n",
       "        text-align: right;\n",
       "    }\n",
       "</style>\n",
       "<table border=\"1\" class=\"dataframe\">\n",
       "  <thead>\n",
       "    <tr style=\"text-align: right;\">\n",
       "      <th></th>\n",
       "      <th>Pkey</th>\n",
       "      <th>num seats</th>\n",
       "      <th>total seat price</th>\n",
       "      <th>account_type</th>\n",
       "      <th>tenure</th>\n",
       "      <th>section</th>\n",
       "      <th>club_flag</th>\n",
       "      <th>Email Open Rate</th>\n",
       "      <th>State</th>\n",
       "      <th>Country</th>\n",
       "      <th>Distance From Stadium</th>\n",
       "      <th>Utilization Rate</th>\n",
       "      <th>Age</th>\n",
       "      <th>income_est_hh_cd</th>\n",
       "      <th>Renewal_Prob</th>\n",
       "    </tr>\n",
       "  </thead>\n",
       "  <tbody>\n",
       "    <tr>\n",
       "      <th>0</th>\n",
       "      <td>1</td>\n",
       "      <td>4</td>\n",
       "      <td>$4,350</td>\n",
       "      <td>Personal</td>\n",
       "      <td>30</td>\n",
       "      <td>100</td>\n",
       "      <td>Non-Club</td>\n",
       "      <td>0.3486</td>\n",
       "      <td>PA</td>\n",
       "      <td>United States</td>\n",
       "      <td>208.649698</td>\n",
       "      <td>100%</td>\n",
       "      <td>60.0</td>\n",
       "      <td>$50,000 - $74,999</td>\n",
       "      <td>0.98940</td>\n",
       "    </tr>\n",
       "    <tr>\n",
       "      <th>1</th>\n",
       "      <td>2</td>\n",
       "      <td>5</td>\n",
       "      <td>$4,294</td>\n",
       "      <td>Personal</td>\n",
       "      <td>15</td>\n",
       "      <td>100</td>\n",
       "      <td>Non-Club</td>\n",
       "      <td>0.0321</td>\n",
       "      <td>NY</td>\n",
       "      <td>United States</td>\n",
       "      <td>106.196447</td>\n",
       "      <td>100%</td>\n",
       "      <td>42.0</td>\n",
       "      <td>Greater than $124,999</td>\n",
       "      <td>0.74925</td>\n",
       "    </tr>\n",
       "    <tr>\n",
       "      <th>2</th>\n",
       "      <td>3</td>\n",
       "      <td>4</td>\n",
       "      <td>$4,050</td>\n",
       "      <td>Personal</td>\n",
       "      <td>57</td>\n",
       "      <td>100</td>\n",
       "      <td>Non-Club</td>\n",
       "      <td>0.3224</td>\n",
       "      <td>NY</td>\n",
       "      <td>United States</td>\n",
       "      <td>25.410607</td>\n",
       "      <td>100%</td>\n",
       "      <td>82.0</td>\n",
       "      <td>$20,000 - $29,999</td>\n",
       "      <td>0.99375</td>\n",
       "    </tr>\n",
       "    <tr>\n",
       "      <th>3</th>\n",
       "      <td>4</td>\n",
       "      <td>4</td>\n",
       "      <td>$4,050</td>\n",
       "      <td>Personal</td>\n",
       "      <td>48</td>\n",
       "      <td>100</td>\n",
       "      <td>Non-Club</td>\n",
       "      <td>0.0828</td>\n",
       "      <td>NY</td>\n",
       "      <td>United States</td>\n",
       "      <td>109.381533</td>\n",
       "      <td>100%</td>\n",
       "      <td>64.0</td>\n",
       "      <td>$75,000 - $99,999</td>\n",
       "      <td>0.99375</td>\n",
       "    </tr>\n",
       "    <tr>\n",
       "      <th>4</th>\n",
       "      <td>5</td>\n",
       "      <td>5</td>\n",
       "      <td>$3,150</td>\n",
       "      <td>Personal</td>\n",
       "      <td>42</td>\n",
       "      <td>200</td>\n",
       "      <td>Non-Club</td>\n",
       "      <td>0.1099</td>\n",
       "      <td>NY</td>\n",
       "      <td>United States</td>\n",
       "      <td>15.510371</td>\n",
       "      <td>100%</td>\n",
       "      <td>62.0</td>\n",
       "      <td>$20,000 - $29,999</td>\n",
       "      <td>0.99325</td>\n",
       "    </tr>\n",
       "  </tbody>\n",
       "</table>\n",
       "</div>"
      ],
      "text/plain": [
       "   Pkey  num seats   total seat price   account_type  tenure section  \\\n",
       "0     1          4              $4,350      Personal      30     100   \n",
       "1     2          5              $4,294      Personal      15     100   \n",
       "2     3          4              $4,050      Personal      57     100   \n",
       "3     4          4              $4,050      Personal      48     100   \n",
       "4     5          5              $3,150      Personal      42     200   \n",
       "\n",
       "  club_flag  Email Open Rate State        Country  Distance From Stadium  \\\n",
       "0  Non-Club           0.3486    PA  United States             208.649698   \n",
       "1  Non-Club           0.0321    NY  United States             106.196447   \n",
       "2  Non-Club           0.3224    NY  United States              25.410607   \n",
       "3  Non-Club           0.0828    NY  United States             109.381533   \n",
       "4  Non-Club           0.1099    NY  United States              15.510371   \n",
       "\n",
       "  Utilization Rate   Age       income_est_hh_cd  Renewal_Prob  \n",
       "0             100%  60.0      $50,000 - $74,999       0.98940  \n",
       "1             100%  42.0  Greater than $124,999       0.74925  \n",
       "2             100%  82.0      $20,000 - $29,999       0.99375  \n",
       "3             100%  64.0      $75,000 - $99,999       0.99375  \n",
       "4             100%  62.0      $20,000 - $29,999       0.99325  "
      ]
     },
     "execution_count": 10,
     "metadata": {},
     "output_type": "execute_result"
    }
   ],
   "source": [
    "#Quick view of data with new column added\n",
    "testing.head(5)"
   ]
  },
  {
   "cell_type": "code",
   "execution_count": 11,
   "id": "01e1d0dd",
   "metadata": {},
   "outputs": [
    {
     "data": {
      "image/png": "[encoded data removed]",
      "text/plain": [
       "<Figure size 1000x600 with 1 Axes>"
      ]
     },
     "metadata": {},
     "output_type": "display_data"
    }
   ],
   "source": [
    "#Produce feature importance chart\n",
    "importances = rf_model.feature_importances_\n",
    "\n",
    "feature_importance_df = pd.DataFrame({\n",
    "    'Feature': X_train.columns,\n",
    "    'Importance': importances\n",
    "})\n",
    "\n",
    "\n",
    "feature_importance_df = feature_importance_df.sort_values(by='Importance', ascending=False)\n",
    "\n",
    "\n",
    "plt.figure(figsize=(10, 6))\n",
    "plt.barh(feature_importance_df['Feature'], feature_importance_df['Importance'], color='skyblue')\n",
    "plt.xlabel('Feature Importance')\n",
    "plt.ylabel('Feature')\n",
    "plt.title('Feature Importance from Random Forest Model')\n",
    "plt.gca().invert_yaxis() \n",
    "plt.show()"
   ]
  },
  {
   "cell_type": "code",
   "execution_count": 12,
   "id": "0f22e54d",
   "metadata": {},
   "outputs": [],
   "source": [
    "# Save the DataFrame to a CSV file\n",
    "testing.to_csv('Testing_Data.csv', index=False)"
   ]
  }
 ],
 "metadata": {
  "kernelspec": {
   "display_name": "Python 3 (ipykernel)",
   "language": "python",
   "name": "python3"
  },
  "language_info": {
   "codemirror_mode": {
    "name": "ipython",
    "version": 3
   },
   "file_extension": ".py",
   "mimetype": "text/x-python",
   "name": "python",
   "nbconvert_exporter": "python",
   "pygments_lexer": "ipython3",
   "version": "3.11.5"
  }
 },
 "nbformat": 4,
 "nbformat_minor": 5
}
